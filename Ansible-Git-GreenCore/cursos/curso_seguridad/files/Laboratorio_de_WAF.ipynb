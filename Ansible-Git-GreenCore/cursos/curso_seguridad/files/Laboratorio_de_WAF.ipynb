{
 "cells": [
  {
   "cell_type": "markdown",
   "metadata": {},
   "source": [
    "# Laboratorio práctico de WAF\n",
    "\n",
    "## Configurando protección de Web Application Firewall en un servidor Web\n",
    "\n",
    "Nota: En una insfraestructura en producción no es común instalarle el WAF dentro del servidor Web. Lo típico es dividir en dos equipos, el servidor web y el WAF. El WAF se configura en modo de proxy reverso de forma que recibe las consultas y las re-envía al servidor web, el cual solo se puede accesar desde el WAF\n",
    "\n",
    "### Paso #1: Instalar un servidor Web\n",
    "\n",
    "Por ahora solo vamos a instalar un servidor de páginas normal, e insertar el contenido de la página principal de Wikipedia en ``index.html``"
   ]
  },
  {
   "cell_type": "code",
   "execution_count": null,
   "metadata": {},
   "outputs": [],
   "source": [
    "sudo apt-get install apache2 -y\n",
    "sudo wget -O /var/www/html/index.html wikipedia.org"
   ]
  },
  {
   "cell_type": "markdown",
   "metadata": {},
   "source": [
    "Este servidor que instalamos se encuentra desprotegido. En un ambiente de producción de desarrollo se instalarían aplicaciones para contenido dinámico, alguna base de datos, accesos a LDAP, SMTP u otras aplicaciones.\n",
    "\n",
    "Ahora podría utilizar una herramienta automatizada, un ZAP u OpenVAS para realizar un ataque sobre la aplicación.\n",
    "\n",
    "Por ello ahora vamos a proceder con la instalación del módulo de ``mod-security`` de Apache el cual hace las funciones de WAF.\n",
    "\n",
    "También vamos a utilizar el archivo de configuración \"recomendada\" como base de nuestra configuración."
   ]
  },
  {
   "cell_type": "code",
   "execution_count": null,
   "metadata": {},
   "outputs": [],
   "source": [
    "sudo apt-get install libapache2-modsecurity -y\n",
    "apachectl -M | grep --color security\n",
    "sudo mv -v /etc/modsecurity/modsecurity.conf{-recommended,}\n",
    "sudo service apache2 reload\n",
    "sudo ls -l /var/log/apache2/modsec_audit.log"
   ]
  },
  {
   "cell_type": "markdown",
   "metadata": {},
   "source": [
    "El sistema WAF ya se encuentra activado en el servidor sin embargo todavía no está protegiendo el servidor de forma activa.\n",
    "\n",
    "Debido a que los sistemas Web son tan complejos, no todas las reglas de un WAF van a funcionar sin cambios para todas las infraestructuras de los usuarios. Por ello el WAF viene configurado en modo ``DetectionOnly``.\n",
    "\n",
    "Esto se utiliza de forma que en el proceso de pruebas antes de poner el servidor en producción, comenzamos inicialmente con el modo de ``DectectionOnly`` para monitorear errores que pueda presentar el servidor.\n",
    "\n",
    "En caso de presentar errores, depuramos o deshabilitamos reglas, y una vez que no se presenten errores, procedemos a modificar la opción para se active y comience a bloquear.\n",
    "\n",
    "Aunque el cambio se puede hacer desde Jupyter-notebook usando herramientas como ``sed``, en este laboratorio se sugiere que utilice el editor de su preferencia para modificar este archivo:\n",
    "\n",
    "```\n",
    "sudo vim /etc/modsecurity/modsecurity.conf\n",
    "```\n",
    "\n",
    "En el archivo, busque la línea que dice:\n",
    "```\n",
    "SecRuleEngine DetectionOnly\n",
    "```\n",
    "Y reemplace por:\n",
    "```\n",
    "SecRuleEngine On\n",
    "```\n",
    "Una vez completada la edición, debe reiniciar el servicio de Web de Apache"
   ]
  },
  {
   "cell_type": "code",
   "execution_count": null,
   "metadata": {
    "collapsed": true
   },
   "outputs": [],
   "source": [
    "sudo service apache2 reload"
   ]
  },
  {
   "cell_type": "markdown",
   "metadata": {},
   "source": [
    "Opcionalmente, para equipos con alta carga se puede evaluar cambiar esta opción para evitar procesar encabezados se sitios web según las reglas a utilizar en el WAF. Recuerde que debe reiniciar el servicio de nuevo para aplicar el cambio.\n",
    "Editando el mismo archivo, busque la línea que dice:\n",
    "```\n",
    "SecResponseBodyAccess On\n",
    "```\n",
    "Y reemplace por:\n",
    "```\n",
    "SecResponseBodyAccess Off\n",
    "```\n",
    "\n",
    "## Activando reglas de OWASP\n",
    "\n",
    "El proyecto de OWASP en su subproyecto de Core Rule Set, permite activar de forma individual reglas del CRS. En nuestro caso vamos a habilitar una regla de protección para ataques de inyección de SQL.\n",
    "También debe reiniciar el servicio de Web de Apache"
   ]
  },
  {
   "cell_type": "code",
   "execution_count": null,
   "metadata": {
    "collapsed": true
   },
   "outputs": [],
   "source": [
    "sudo ln -s /usr/share/modsecurity-crs/base_rules/modsecurity_crs_41_sql_injection_attacks.conf .\n",
    "sudo service apache2 reload"
   ]
  }
 ],
 "metadata": {
  "kernelspec": {
   "display_name": "Bash",
   "language": "bash",
   "name": "bash"
  },
  "language_info": {
   "codemirror_mode": "shell",
   "file_extension": ".sh",
   "mimetype": "text/x-sh",
   "name": "bash"
  }
 },
 "nbformat": 4,
 "nbformat_minor": 2
}
